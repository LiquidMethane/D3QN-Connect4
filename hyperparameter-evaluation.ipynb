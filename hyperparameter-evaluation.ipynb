{
 "cells": [
  {
   "cell_type": "markdown",
   "metadata": {},
   "source": [
    "# Evaluation Metrics\n",
    "\n",
    "The RL agent will play against N-step lookahead opponent for 50 games in the first position and another 50 games in the second position, for a total of 100 games. The average score is calculated by the following formula\n",
    "\n",
    "$\\bar{r} = \\frac{1}{N}\\sum^{N}_{n}r_{n}, \\quad r_{n} \\in \\{-1, 0, 1\\}$"
   ]
  },
  {
   "cell_type": "code",
   "execution_count": 1,
   "metadata": {},
   "outputs": [
    {
     "name": "stdout",
     "output_type": "stream",
     "text": [
      "Loading environment football failed: No module named 'gfootball'\n"
     ]
    }
   ],
   "source": [
    "import os\n",
    "from tqdm import tqdm\n",
    "from D3QNAgent import Agent\n",
    "from kaggle_environments import evaluate, make, utils\n",
    "import numpy as np\n",
    "from IPython.display import clear_output\n",
    "\n",
    "nstep_lookahead_agent = './fast_Nstep_lookahead_agent.py'\n",
    "random_agent = 'random'\n",
    "negamax_agent = 'negamax'\n",
    "\n",
    "def preprocess_board_state(observation):\n",
    "    board = np.array(observation['board'], dtype=np.float32).reshape(6, 7)\n",
    "    marker = observation.mark\n",
    "\n",
    "    state = np.zeros((6, 7, 2), dtype=np.float32)\n",
    "    \n",
    "    if marker == 1:\n",
    "        state[:, :, 0][board == 1] = 1\n",
    "        state[:, :, 1][board == 2] = 1\n",
    "        \n",
    "    else:\n",
    "        state[:, :, 0][board == 2] = 1\n",
    "        state[:, :, 1][board == 1] = 1\n",
    "\n",
    "    return state"
   ]
  },
  {
   "cell_type": "code",
   "execution_count": 2,
   "metadata": {},
   "outputs": [],
   "source": [
    "# extract all file names in the model weights folder\n",
    "names = sorted(os.listdir('./models'))\n",
    "\n",
    "def mean_reward(rewards, position):\n",
    "    return sum(r[position] for r in rewards) / float(len(rewards))\n",
    "\n",
    "scores = []\n",
    "agent_num = []\n",
    "positions = []\n"
   ]
  },
  {
   "cell_type": "code",
   "execution_count": 3,
   "metadata": {},
   "outputs": [
    {
     "name": "stderr",
     "output_type": "stream",
     "text": [
      "100%|██████████| 16/16 [1:58:13<00:00, 443.32s/it] \n"
     ]
    }
   ],
   "source": [
    "for idx, model_path in enumerate(tqdm(names)):\n",
    "\n",
    "    def my_agent(obs, config):\n",
    "    # define agent\n",
    "        agent = Agent(\n",
    "            config, \n",
    "            input_shape=(None, 6, 7, 2),\n",
    "            testing=True,\n",
    "        )\n",
    "        agent.load_DQN_weights(os.path.join('./models/' + model_path))\n",
    "\n",
    "        # preprocessing of the state\n",
    "        state = preprocess_board_state(obs)\n",
    "\n",
    "        return agent.choose_action(state)\n",
    "\n",
    "    scores.append(mean_reward(evaluate(\"connectx\", [my_agent, nstep_lookahead_agent], num_episodes=50), 0))\n",
    "    scores.append(mean_reward(evaluate(\"connectx\", [ nstep_lookahead_agent, my_agent], num_episodes=50), 1))\n",
    "\n",
    "    agent_num.append(idx)\n",
    "    agent_num.append(idx)\n",
    "    positions.append(1)\n",
    "    positions.append(2)"
   ]
  },
  {
   "cell_type": "code",
   "execution_count": 4,
   "metadata": {},
   "outputs": [
    {
     "data": {
      "text/plain": [
       "Text(0.5, 1.0, 'RL Agent Performance Against N-step Lookahead Opponent')"
      ]
     },
     "execution_count": 4,
     "metadata": {},
     "output_type": "execute_result"
    },
    {
     "data": {
      "image/png": "[encoded data removed]",
      "text/plain": [
       "<Figure size 1536x648 with 1 Axes>"
      ]
     },
     "metadata": {
      "needs_background": "light"
     },
     "output_type": "display_data"
    }
   ],
   "source": [
    "import matplotlib.pyplot as plt\n",
    "import seaborn as sns\n",
    "import pandas as pd\n",
    "\n",
    "d = {\n",
    "    'Score': scores,\n",
    "    'Agent': agent_num,\n",
    "    'Position': positions,\n",
    "}\n",
    "\n",
    "fig, ax = plt.subplots(dpi=120, figsize=(12.8, 5.4))\n",
    "\n",
    "df = pd.DataFrame(data=d)\n",
    "sns.set_theme(style='whitegrid')\n",
    "\n",
    "ax = sns.barplot(x='Agent', y='Score', hue='Position', data=df)\n",
    "ax.set_xlabel('Agent')\n",
    "ax.set_ylabel('Average Score')\n",
    "ax.set_title('RL Agent Performance Against N-step Lookahead Opponent')"
   ]
  },
  {
   "cell_type": "code",
   "execution_count": 5,
   "metadata": {},
   "outputs": [],
   "source": [
    "# import threading\n",
    "\n",
    "# scores = np.zeros(32)\n",
    "\n",
    "# def evaluate_agent(idx, model_path):\n",
    "\n",
    "#     print(threading.get_ident(), \" Started to work on agent \", idx)\n",
    "    \n",
    "#     def my_agent(obs, config):\n",
    "#     # define agent\n",
    "#         agent = Agent(\n",
    "#             config, \n",
    "#             input_shape=(None, 6, 7, 2),\n",
    "#             testing=True,\n",
    "#         )\n",
    "#         agent.load_DQN_weights(os.path.join('./models/' + model_path))\n",
    "\n",
    "#         # preprocessing of the state\n",
    "#         state = preprocess_board_state(obs)\n",
    "\n",
    "#         return agent.choose_action(state)\n",
    "\n",
    "#     score_1 = mean_reward(evaluate(\"connectx\", [my_agent, nstep_lookahead_agent], num_episodes=1), 0)\n",
    "#     score_2 = mean_reward(evaluate(\"connectx\", [ nstep_lookahead_agent, my_agent], num_episodes=1), 1)\n",
    "\n",
    "#     with threading.Lock():\n",
    "#         scores[idx*2] = score_1\n",
    "#         scores[idx*2+1] = score_2\n",
    "\n",
    "#     print(threading.get_ident(), \" finished with agent \", idx)\n",
    "\n",
    "\n",
    "# threads = []\n",
    "\n",
    "# for idx, model_path in enumerate(names):\n",
    "#     threads.append(threading.Thread(target=evaluate_agent, args=(idx, model_path)))\n",
    "\n",
    "# for thread in threads:\n",
    "#     thread.start()\n",
    "# for thread in threads:\n",
    "#     thread.join()"
   ]
  }
 ],
 "metadata": {
  "interpreter": {
   "hash": "b3ba2566441a7c06988d0923437866b63cedc61552a5af99d1f4fb67d367b25f"
  },
  "kernelspec": {
   "display_name": "Python 3.8.12 ('base')",
   "language": "python",
   "name": "python3"
  },
  "language_info": {
   "codemirror_mode": {
    "name": "ipython",
    "version": 3
   },
   "file_extension": ".py",
   "mimetype": "text/x-python",
   "name": "python",
   "nbconvert_exporter": "python",
   "pygments_lexer": "ipython3",
   "version": "3.8.12"
  },
  "orig_nbformat": 4
 },
 "nbformat": 4,
 "nbformat_minor": 2
}

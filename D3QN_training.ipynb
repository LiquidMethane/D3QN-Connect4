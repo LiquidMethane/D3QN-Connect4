{
 "cells": [
  {
   "cell_type": "code",
   "execution_count": 1,
   "id": "376fae50-2bad-4c14-a97a-a7a08b003f13",
   "metadata": {},
   "outputs": [
    {
     "name": "stdout",
     "output_type": "stream",
     "text": [
      "Loading environment football failed: No module named 'gfootball'\n"
     ]
    }
   ],
   "source": [
    "from tqdm import tqdm\n",
    "from D3QNAgent import Agent\n",
    "from kaggle_environments import evaluate, make, utils\n",
    "import numpy as np\n",
    "from IPython.display import clear_output\n",
    "import matplotlib.pyplot as plt\n",
    "\n",
    "env = make(\"connectx\", debug=True)\n",
    "env.render()\n",
    "\n",
    "nstep_lookahead_agent = './fast_Nstep_lookahead_agent.py'\n",
    "random_agent = 'random'\n",
    "negamax_agent = 'negamax'"
   ]
  },
  {
   "cell_type": "code",
   "execution_count": 2,
   "id": "92cab155",
   "metadata": {},
   "outputs": [],
   "source": [
    "def live_plot(rewards, i,  eps, j=0):\n",
    "    if len(rewards) < 100:\n",
    "        return\n",
    "        \n",
    "    clear_output(wait=True)\n",
    "    fig, (ax1, ax2) = plt.subplots(ncols=2, dpi=120, figsize=(12.8, 3.6))\n",
    "    ax1.plot(np.array(rewards[100:]), color='orange', linestyle='-')\n",
    "    # ax1.legend(loc='lower right')\n",
    "    ax1.set_ylabel('reward')\n",
    "    ax1.set_xlabel('episode')\n",
    "    ax1.title.set_text('Agent Total Rewards with Moving Average 100 Episodes')\n",
    "\n",
    "    plt.show()\n",
    "\n",
    "    print('episode', i, \n",
    "        '\\tround', j,\n",
    "        # '\\ttotal rewards %.1f' % tot_reward, \n",
    "        # '\\taverage rewards %.3f' % avg_rewards[i], \n",
    "        # '\\tresult ', reward, \n",
    "        # '\\twin/loss ratio %.3f' % wl_ratio[i], \n",
    "        '\\tepsilon %.3f' % eps)\n"
   ]
  },
  {
   "cell_type": "code",
   "execution_count": 3,
   "id": "388e7db2",
   "metadata": {},
   "outputs": [],
   "source": [
    "def preprocess_board_state(observation):\n",
    "    board = np.array(observation['board'], dtype=np.float32).reshape(6, 7)\n",
    "    marker = observation.mark\n",
    "\n",
    "    state = np.zeros((6, 7, 2), dtype=np.float32)\n",
    "    \n",
    "    if marker == 1:\n",
    "        state[:, :, 0][board == 1] = 1\n",
    "        state[:, :, 1][board == 2] = 1\n",
    "        \n",
    "    else:\n",
    "        state[:, :, 0][board == 2] = 1\n",
    "        state[:, :, 1][board == 1] = 1\n",
    "\n",
    "    return state"
   ]
  },
  {
   "cell_type": "code",
   "execution_count": 4,
   "id": "20a9886f-f084-40ff-aaf6-2a8e42471dbf",
   "metadata": {},
   "outputs": [],
   "source": [
    "agent = Agent(\n",
    "    env.configuration, \n",
    "    lr=1e-3, \n",
    "    gamma=0.95, \n",
    "    batch_size=128,    #### REMEMBER TO CHANGE IT BACK ####\n",
    "    epsilon=1,        #### REMEMBER TO CHANGE IT BACK ####\n",
    "    eps_dec=0.999,\n",
    "    eps_min=0.02,\n",
    "    buff_size=50_000,\n",
    "    conv1_filts=16,\n",
    "    d1_dims=128,\n",
    "    d2_dims=128,\n",
    "    replace_target_weight=20,\n",
    "    input_shape=(None, 6, 7, 2),\n",
    ")\n"
   ]
  },
  {
   "cell_type": "code",
   "execution_count": null,
   "id": "a9efb974",
   "metadata": {},
   "outputs": [],
   "source": [
    "def playalong_agent(obs, config):\n",
    "    # define agent\n",
    "    agent = Agent(config, input_shape=(None, 6, 7, 2), testing=True)\n",
    "    try:\n",
    "\n",
    "        agent.load_DQN_weights('./models/self-play-weights.h5')\n",
    "\n",
    "        # preprocessing of the state\n",
    "        state = preprocess_board_state(obs)\n",
    "\n",
    "        return agent.choose_action(state)\n",
    "    \n",
    "    except:\n",
    "        state = obs.board\n",
    "        mask = [True if state[idx] == 0 else False for idx in range(config.columns)]\n",
    "        valid_action_space = np.where(mask)[0]\n",
    "        action = np.random.choice(valid_action_space)\n",
    "        return action.item()"
   ]
  },
  {
   "cell_type": "code",
   "execution_count": null,
   "id": "01c1eb7a",
   "metadata": {},
   "outputs": [],
   "source": [
    "rewards, avg_rewards= [], []\n"
   ]
  },
  {
   "cell_type": "code",
   "execution_count": null,
   "id": "b7165f61",
   "metadata": {},
   "outputs": [],
   "source": [
    "\n",
    "# None means the agent being trained\n",
    "trainer = env.train([negamax_agent, None])"
   ]
  },
  {
   "cell_type": "code",
   "execution_count": null,
   "id": "7c659259",
   "metadata": {},
   "outputs": [],
   "source": [
    "agent.load_DQN_weights('./models/random-cnn-5000.h5')"
   ]
  },
  {
   "cell_type": "code",
   "execution_count": null,
   "id": "86b77096",
   "metadata": {},
   "outputs": [],
   "source": [
    "num_episodes = 5000\n"
   ]
  },
  {
   "cell_type": "code",
   "execution_count": null,
   "id": "81630100",
   "metadata": {},
   "outputs": [],
   "source": [
    "for i in range(num_episodes):\n",
    "    done = False\n",
    "    tot_reward = 0\n",
    "\n",
    "    observation = trainer.reset()\n",
    "    obs = preprocess_board_state(observation)\n",
    "    \n",
    "    # print(obs.reshape(6, 7))\n",
    "\n",
    "    while not done:\n",
    "\n",
    "        # choose the best action\n",
    "        action = agent.choose_action(obs)\n",
    "        \n",
    "        # step the environment with action\n",
    "        # store all returns\n",
    "        observation_, reward, done, info = trainer.step(action)\n",
    "\n",
    "        # reprocess the new raw state from the environment\n",
    "        obs_ = preprocess_board_state(observation_)\n",
    "\n",
    "        # calculate agent reward from environment response\n",
    "        agent_reward = agent.get_agent_reward(reward, done)\n",
    "        \n",
    "        tot_reward += agent_reward\n",
    "        \n",
    "        # store this transition\n",
    "        agent.update_replay_buffer((obs, action, agent_reward, obs_, done))\n",
    "        \n",
    "        # update the current obs with new obs\n",
    "        obs = obs_\n",
    "        \n",
    "        \n",
    "        agent.learn()\n",
    "    \n",
    "    agent.evolve()\n",
    "\n",
    "    # store total rewards\n",
    "    rewards.append(tot_reward)\n",
    "    # store average rewards\n",
    "    avg_rewards.append(np.mean(rewards[-100:]))\n",
    "    \n",
    "    \n",
    "    if i % 20 == 0:\n",
    "        live_plot(avg_rewards, i, agent.epsilon)\n",
    "    \n",
    "\n",
    "live_plot(avg_rewards, i, agent.epsilon)\n",
    "agent.save_DQN_weights('./models/cnn-random-5000-negamax-5000.h5')"
   ]
  }
 ],
 "metadata": {
  "interpreter": {
   "hash": "b3ba2566441a7c06988d0923437866b63cedc61552a5af99d1f4fb67d367b25f"
  },
  "kernelspec": {
   "display_name": "PyCharm (Project)",
   "language": "python",
   "name": "pycharm-9abbaf13"
  },
  "language_info": {
   "codemirror_mode": {
    "name": "ipython",
    "version": 3
   },
   "file_extension": ".py",
   "mimetype": "text/x-python",
   "name": "python",
   "nbconvert_exporter": "python",
   "pygments_lexer": "ipython3",
   "version": "3.8.12"
  }
 },
 "nbformat": 4,
 "nbformat_minor": 5
}
